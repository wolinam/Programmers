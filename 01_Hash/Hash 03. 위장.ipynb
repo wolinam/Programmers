{
 "cells": [
  {
   "cell_type": "code",
   "execution_count": null,
   "metadata": {},
   "outputs": [],
   "source": [
    "def solution(clothes):\n",
    "    \n",
    "    styleList ={}\n",
    "    \n",
    "    for i in clothes:\n",
    "        if i[1] in styleList: # 딕셔너리에 해당 종류가있다면\n",
    "            styleList[i[1]].append([i[0]]) # 해당 종류에 값 추가\n",
    "        else:\n",
    "            styleList[i[1]] = [i[0]] #없다면 해당 종류로 키를 만들면서 값 추가\n",
    "            \n",
    "    answer =1\n",
    "    for k in styleList:      \n",
    "        answer *= len(styleList[k])+1   \n",
    "    \n",
    "    answer -= 1\n",
    "    return answer"
   ]
  }
 ],
 "metadata": {
  "kernelspec": {
   "display_name": "Python 3",
   "language": "python",
   "name": "python3"
  },
  "language_info": {
   "codemirror_mode": {
    "name": "ipython",
    "version": 3
   },
   "file_extension": ".py",
   "mimetype": "text/x-python",
   "name": "python",
   "nbconvert_exporter": "python",
   "pygments_lexer": "ipython3",
   "version": "3.7.6"
  }
 },
 "nbformat": 4,
 "nbformat_minor": 4
}
